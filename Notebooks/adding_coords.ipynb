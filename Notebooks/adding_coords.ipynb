{
 "cells": [
  {
   "cell_type": "code",
   "execution_count": 1,
   "metadata": {},
   "outputs": [],
   "source": [
    "import pandas as pd\n",
    "import os\n",
    "\n",
    "# Define the directory containing your CSV files\n",
    "big_directory = r'C:\\Users\\rishi\\ml_projects\\climate\\2023_data'\n",
    "# Define your column header\n",
    "column_headers = [78.036735138125, 78.102088894375, 78.16744265062499, 78.232796406875, 78.29815016312502, 78.363503919375, 78.428857675625, 78.494211431875, 78.559565188125, 78.624918944375, 78.69027270062499, 78.755626456875, 78.82098021312501, 78.886333969375, 78.951687725625, 79.017041481875] # Modify as per your requirements\n",
    "row_headers= [17.885359334166665, 17.8530638825, 17.820768430833333, 17.788472979166663, 17.7561775275, 17.72388207583333, 17.691586624166668, 17.659291172499998, 17.626995720833335, 17.594700269166665, 17.562404817500003, 17.530109365833333, 17.497813914166663, 17.4655184625, 17.43322301083333, 17.400927559166668, 17.368632107499998, 17.336336655833335, 17.304041204166666, 17.271745752499996, 17.239450300833333, 17.207154849166667, 17.1748593975, 17.14256394583333, 17.110268494166668, 17.077973042500002, 17.04567759083333, 17.01338213916667, 16.981086687499996, 16.948791235833333]\n",
    "# Process each CSV file in the directory\n",
    "for directory in os.listdir(big_directory):\n",
    "    subdir_path = os.path.join(big_directory, directory)\n",
    "    if os.path.isdir(subdir_path):  # Check if it is a directory\n",
    "        for filename in os.listdir(subdir_path):\n",
    "            if filename.endswith('.csv'):\n",
    "                filepath = os.path.join(subdir_path, filename)\n",
    "                \n",
    "                # Read the CSV file\n",
    "                df = pd.read_csv(filepath, header=None)  # Assuming no header exists, else set header=0\n",
    "\n",
    "                # Add the column headers\n",
    "                df.columns = column_headers\n",
    "\n",
    "                # Add row headers (index names)\n",
    "                df.index = row_headers\n",
    "\n",
    "                # Save the modified DataFrame back to a CSV file\n",
    "                df.to_csv(filepath, index=True)  # index=True ensures row headers are written"
   ]
  },
  {
   "cell_type": "code",
   "execution_count": 1,
   "metadata": {},
   "outputs": [
    {
     "ename": "FileNotFoundError",
     "evalue": "[WinError 3] The system cannot find the path specified: 'C:\\\\Users\\\\rishi\\\\ml_projects\\\\climate\\\\2021_data\\\\NTL'",
     "output_type": "error",
     "traceback": [
      "\u001b[1;31m---------------------------------------------------------------------------\u001b[0m",
      "\u001b[1;31mFileNotFoundError\u001b[0m                         Traceback (most recent call last)",
      "Cell \u001b[1;32mIn[1], line 10\u001b[0m\n\u001b[0;32m      8\u001b[0m column_headers \u001b[38;5;241m=\u001b[39m [\u001b[38;5;241m78.036735138125\u001b[39m, \u001b[38;5;241m78.102088894375\u001b[39m, \u001b[38;5;241m78.16744265062499\u001b[39m, \u001b[38;5;241m78.232796406875\u001b[39m, \u001b[38;5;241m78.29815016312502\u001b[39m, \u001b[38;5;241m78.363503919375\u001b[39m, \u001b[38;5;241m78.428857675625\u001b[39m, \u001b[38;5;241m78.494211431875\u001b[39m, \u001b[38;5;241m78.559565188125\u001b[39m, \u001b[38;5;241m78.624918944375\u001b[39m, \u001b[38;5;241m78.69027270062499\u001b[39m, \u001b[38;5;241m78.755626456875\u001b[39m, \u001b[38;5;241m78.82098021312501\u001b[39m, \u001b[38;5;241m78.886333969375\u001b[39m, \u001b[38;5;241m78.951687725625\u001b[39m, \u001b[38;5;241m79.017041481875\u001b[39m] \u001b[38;5;66;03m# Modify as per your requirements\u001b[39;00m\n\u001b[0;32m      9\u001b[0m row_headers\u001b[38;5;241m=\u001b[39m [\u001b[38;5;241m17.885359334166665\u001b[39m, \u001b[38;5;241m17.8530638825\u001b[39m, \u001b[38;5;241m17.820768430833333\u001b[39m, \u001b[38;5;241m17.788472979166663\u001b[39m, \u001b[38;5;241m17.7561775275\u001b[39m, \u001b[38;5;241m17.72388207583333\u001b[39m, \u001b[38;5;241m17.691586624166668\u001b[39m, \u001b[38;5;241m17.659291172499998\u001b[39m, \u001b[38;5;241m17.626995720833335\u001b[39m, \u001b[38;5;241m17.594700269166665\u001b[39m, \u001b[38;5;241m17.562404817500003\u001b[39m, \u001b[38;5;241m17.530109365833333\u001b[39m, \u001b[38;5;241m17.497813914166663\u001b[39m, \u001b[38;5;241m17.4655184625\u001b[39m, \u001b[38;5;241m17.43322301083333\u001b[39m, \u001b[38;5;241m17.400927559166668\u001b[39m, \u001b[38;5;241m17.368632107499998\u001b[39m, \u001b[38;5;241m17.336336655833335\u001b[39m, \u001b[38;5;241m17.304041204166666\u001b[39m, \u001b[38;5;241m17.271745752499996\u001b[39m, \u001b[38;5;241m17.239450300833333\u001b[39m, \u001b[38;5;241m17.207154849166667\u001b[39m, \u001b[38;5;241m17.1748593975\u001b[39m, \u001b[38;5;241m17.14256394583333\u001b[39m, \u001b[38;5;241m17.110268494166668\u001b[39m, \u001b[38;5;241m17.077973042500002\u001b[39m, \u001b[38;5;241m17.04567759083333\u001b[39m, \u001b[38;5;241m17.01338213916667\u001b[39m, \u001b[38;5;241m16.981086687499996\u001b[39m, \u001b[38;5;241m16.948791235833333\u001b[39m]\n\u001b[1;32m---> 10\u001b[0m \u001b[38;5;28;01mfor\u001b[39;00m filename \u001b[38;5;129;01min\u001b[39;00m \u001b[43mos\u001b[49m\u001b[38;5;241;43m.\u001b[39;49m\u001b[43mlistdir\u001b[49m\u001b[43m(\u001b[49m\u001b[43mdirectory\u001b[49m\u001b[43m)\u001b[49m:\n\u001b[0;32m     11\u001b[0m     \u001b[38;5;28;01mif\u001b[39;00m filename\u001b[38;5;241m.\u001b[39mendswith(\u001b[38;5;124m'\u001b[39m\u001b[38;5;124m.csv\u001b[39m\u001b[38;5;124m'\u001b[39m):\n\u001b[0;32m     12\u001b[0m         filepath \u001b[38;5;241m=\u001b[39m os\u001b[38;5;241m.\u001b[39mpath\u001b[38;5;241m.\u001b[39mjoin(directory, filename)\n",
      "\u001b[1;31mFileNotFoundError\u001b[0m: [WinError 3] The system cannot find the path specified: 'C:\\\\Users\\\\rishi\\\\ml_projects\\\\climate\\\\2021_data\\\\NTL'"
     ]
    }
   ],
   "source": [
    "import pandas as pd\n",
    "import os\n",
    "\n",
    "# Define the directory containing your CSV files\n",
    "for year in range(2018,2021):\n",
    "    directory = fr'C:\\Users\\rishi\\ml_projects\\climate\\{year}_data\\NTL'\n",
    "# Define your column header\n",
    "    column_headers = [78.036735138125, 78.102088894375, 78.16744265062499, 78.232796406875, 78.29815016312502, 78.363503919375, 78.428857675625, 78.494211431875, 78.559565188125, 78.624918944375, 78.69027270062499, 78.755626456875, 78.82098021312501, 78.886333969375, 78.951687725625, 79.017041481875] # Modify as per your requirements\n",
    "    row_headers= [17.885359334166665, 17.8530638825, 17.820768430833333, 17.788472979166663, 17.7561775275, 17.72388207583333, 17.691586624166668, 17.659291172499998, 17.626995720833335, 17.594700269166665, 17.562404817500003, 17.530109365833333, 17.497813914166663, 17.4655184625, 17.43322301083333, 17.400927559166668, 17.368632107499998, 17.336336655833335, 17.304041204166666, 17.271745752499996, 17.239450300833333, 17.207154849166667, 17.1748593975, 17.14256394583333, 17.110268494166668, 17.077973042500002, 17.04567759083333, 17.01338213916667, 16.981086687499996, 16.948791235833333]\n",
    "    for filename in os.listdir(directory):\n",
    "        if filename.endswith('.csv'):\n",
    "            filepath = os.path.join(directory, filename)\n",
    "            \n",
    "            # Read the CSV file\n",
    "            df = pd.read_csv(filepath, header=None)  # Assuming no header exists, else set header=0\n",
    "\n",
    "            # Add the column headers\n",
    "            df.columns = column_headers\n",
    "\n",
    "            # Add row headers (index names)\n",
    "            df.index = row_headers\n",
    "\n",
    "            # Save the modified DataFrame back to a CSV file\n",
    "            df.to_csv(filepath, index=True)  # index=True ensures row headers are written"
   ]
  },
  {
   "cell_type": "code",
   "execution_count": 2,
   "metadata": {},
   "outputs": [],
   "source": [
    "import pandas as pd\n",
    "import os\n",
    "\n",
    "column_headers = [78.036735138125, 78.102088894375, 78.16744265062499, 78.232796406875, 78.29815016312502, 78.363503919375, 78.428857675625, 78.494211431875, 78.559565188125, 78.624918944375, 78.69027270062499, 78.755626456875, 78.82098021312501, 78.886333969375, 78.951687725625, 79.017041481875] # Modify as per your requirements\n",
    "row_headers= [17.885359334166665, 17.8530638825, 17.820768430833333, 17.788472979166663, 17.7561775275, 17.72388207583333, 17.691586624166668, 17.659291172499998, 17.626995720833335, 17.594700269166665, 17.562404817500003, 17.530109365833333, 17.497813914166663, 17.4655184625, 17.43322301083333, 17.400927559166668, 17.368632107499998, 17.336336655833335, 17.304041204166666, 17.271745752499996, 17.239450300833333, 17.207154849166667, 17.1748593975, 17.14256394583333, 17.110268494166668, 17.077973042500002, 17.04567759083333, 17.01338213916667, 16.981086687499996, 16.948791235833333]\n",
    "\n",
    "\n",
    "filepath = r\"C:\\Users\\rishi\\ml_projects\\climate\\2019_data\\NTL\\September_NTL.csv\"\n",
    "\n",
    "# Read the CSV file\n",
    "df = pd.read_csv(filepath, header=None)  # Assuming no header exists, else set header=0\n",
    "\n",
    "# Add the column headers\n",
    "df.columns = column_headers\n",
    "\n",
    "# Add row headers (index names)\n",
    "df.index = row_headers\n",
    "\n",
    "# Save the modified DataFrame back to a CSV file\n",
    "df.to_csv(filepath, index=True)  # index=True ensures row headers are written"
   ]
  },
  {
   "cell_type": "code",
   "execution_count": 2,
   "metadata": {},
   "outputs": [
    {
     "name": "stdout",
     "output_type": "stream",
     "text": [
      "Renamed: April_N02.csv -> April_NO2.csv\n",
      "Renamed: August_N02.csv -> August_NO2.csv\n",
      "Renamed: December_N02.csv -> December_NO2.csv\n",
      "Renamed: February_N02.csv -> February_NO2.csv\n",
      "Renamed: January_N02.csv -> January_NO2.csv\n",
      "Renamed: July_N02.csv -> July_NO2.csv\n",
      "Renamed: June_N02.csv -> June_NO2.csv\n",
      "Renamed: March_N02.csv -> March_NO2.csv\n",
      "Renamed: May_N02.csv -> May_NO2.csv\n",
      "Renamed: November_N02.csv -> November_NO2.csv\n",
      "Renamed: October_N02.csv -> October_NO2.csv\n",
      "Renamed: September_N02.csv -> September_NO2.csv\n"
     ]
    }
   ],
   "source": [
    "import os\n",
    "\n",
    "# Define the directory containing the files\n",
    "folder_path = r\"C:\\Users\\rishi\\ml_projects\\climate\\2019_data\\N02\"\n",
    "\n",
    "# Loop through all files in the directory\n",
    "for filename in os.listdir(folder_path):\n",
    "    # Check if the filename contains 'N02'\n",
    "    if 'N02' in filename:\n",
    "        # Create the new filename by replacing 'N02' with 'NO2'\n",
    "        new_filename = filename.replace('N02', 'NO2')\n",
    "        \n",
    "        # Construct the full old and new file paths\n",
    "        old_file = os.path.join(folder_path, filename)\n",
    "        new_file = os.path.join(folder_path, new_filename)\n",
    "        \n",
    "        # Rename the file\n",
    "        os.rename(old_file, new_file)\n",
    "        \n",
    "        print(f'Renamed: {filename} -> {new_filename}')"
   ]
  }
 ],
 "metadata": {
  "kernelspec": {
   "display_name": "climate",
   "language": "python",
   "name": "python3"
  },
  "language_info": {
   "codemirror_mode": {
    "name": "ipython",
    "version": 3
   },
   "file_extension": ".py",
   "mimetype": "text/x-python",
   "name": "python",
   "nbconvert_exporter": "python",
   "pygments_lexer": "ipython3",
   "version": "3.9.19"
  }
 },
 "nbformat": 4,
 "nbformat_minor": 2
}

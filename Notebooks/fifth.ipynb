{
 "cells": [
  {
   "cell_type": "code",
   "execution_count": 1,
   "metadata": {},
   "outputs": [],
   "source": [
    "from sentinelhub import SHConfig\n",
    "\n",
    "config = SHConfig()\n",
    "config.sh_client_id = 'sh-fe080851-d462-4304-9f4d-1b7fd7c7dc95'\n",
    "config.sh_client_secret = 'XBnxUPfjs1duw9wmexDpoVmhTbY6piHw'\n",
    "config.sh_base_url = 'https://sh.dataspace.copernicus.eu'\n",
    "config.sh_token_url = 'https://identity.dataspace.copernicus.eu/auth/realms/CDSE/protocol/openid-connect/token'"
   ]
  },
  {
   "cell_type": "code",
   "execution_count": 2,
   "metadata": {},
   "outputs": [],
   "source": [
    "import datetime\n",
    "import os\n",
    "\n",
    "import matplotlib.pyplot as plt\n",
    "import numpy as np\n",
    "\n",
    "from sentinelhub import (\n",
    "    CRS,\n",
    "    BBox,\n",
    "    DataCollection,\n",
    "    DownloadRequest,\n",
    "    MimeType,\n",
    "    MosaickingOrder,\n",
    "    SentinelHubDownloadClient,\n",
    "    SentinelHubRequest,\n",
    "    bbox_to_dimensions,\n",
    ")\n",
    "\n",
    "# The following is not a package. It is a file utils.py which should be in the same folder as this notebook.\n",
    "from utils import plot_image"
   ]
  },
  {
   "cell_type": "code",
   "execution_count": 3,
   "metadata": {},
   "outputs": [
    {
     "name": "stdout",
     "output_type": "stream",
     "text": [
      "Image shape at (5500, 3500) m resolution: (11, 14) pixels\n"
     ]
    }
   ],
   "source": [
    "hyd_coords_wgs84 = (78.175278,17.192619,78.715668,17.643368)\n",
    "resolution=(5500, 3500)\n",
    "hyd_bbox = BBox(bbox=hyd_coords_wgs84, crs=CRS.WGS84)\n",
    "hyd_size = bbox_to_dimensions(hyd_bbox, resolution=resolution)\n",
    "\n",
    "print(f\"Image shape at {resolution} m resolution: {hyd_size} pixels\")"
   ]
  },
  {
   "cell_type": "code",
   "execution_count": 4,
   "metadata": {},
   "outputs": [],
   "source": [
    "evalscript_mean_mosaic = \"\"\"\n",
    "//VERSION=3\n",
    "function setup() {\n",
    "    return {\n",
    "        input: [\"NO2\", \"dataMask\"],\n",
    "        output: { \n",
    "            bands: 4 \n",
    "        },\n",
    "        mosaicking: \"ORBIT\" // To process data from different orbits\n",
    "    };\n",
    "}\n",
    "\n",
    "const minVal = 0.0;\n",
    "const maxVal = 0.00005;\n",
    "const diff = maxVal - minVal;\n",
    "\n",
    "const purpleToRed = [\n",
    "    [minVal, [0.5, 0, 0.5]],             // Purple\n",
    "    [minVal + 0.14 * diff, [0.6, 0, 1]], // Blue-Purple\n",
    "    [minVal + 0.28 * diff, [0, 0, 1]],   // Blue\n",
    "    [minVal + 0.42 * diff, [0, 1, 1]],   // Cyan\n",
    "    [minVal + 0.57 * diff, [0, 1, 0]],   // Green\n",
    "    [minVal + 0.71 * diff, [1, 1, 0]],   // Yellow\n",
    "    [minVal + 0.85 * diff, [1, 0.5, 0]], // Orange\n",
    "    [maxVal, [1, 0, 0]]                  // Red\n",
    "];\n",
    "\n",
    "const viz = new ColorRampVisualizer(purpleToRed);\n",
    "\n",
    "function evaluatePixel(samples) {\n",
    "    let totalNO2 = 0;\n",
    "    let validSampleCount = 0;\n",
    "\n",
    "    // Sum up the NO2 values and count valid samples\n",
    "    for (let i = 0; i < samples.length; i++) {\n",
    "        if (samples[i].dataMask === 1) {\n",
    "            totalNO2 += samples[i].NO2;\n",
    "            validSampleCount++;\n",
    "        }\n",
    "    }\n",
    "\n",
    "    // Calculate the mean NO2 value\n",
    "    let meanNO2 = validSampleCount > 0 ? totalNO2 / validSampleCount : 0;\n",
    "\n",
    "    // If no valid samples, return black color\n",
    "    if (validSampleCount === 0) {\n",
    "        return [0, 0, 0, 1]; // Black with full opacity\n",
    "    }\n",
    "\n",
    "    // Map values greater than maxVal to red\n",
    "    if (meanNO2 > maxVal) {\n",
    "        return [0.3, 0, 0, 1]; // Full Red with full opacity\n",
    "    }\n",
    "\n",
    "    // Apply the colormap visualization for values within the range\n",
    "    let rgba = viz.process(meanNO2);\n",
    "    rgba.push(1); // Set alpha channel to 1 (fully opaque)\n",
    "\n",
    "    return rgba;\n",
    "}\n",
    "\"\"\"\n",
    "\n",
    "\n",
    "\n",
    "request_monthly = SentinelHubRequest(\n",
    "    evalscript=evalscript_mean_mosaic,\n",
    "    input_data=[\n",
    "        SentinelHubRequest.input_data(\n",
    "            data_collection=DataCollection.SENTINEL5P.define_from(\n",
    "                \"s5pl2\", service_url=config.sh_base_url\n",
    "            ),\n",
    "            time_interval=(\"2021-07-15\", \"2021-07-30\"),\n",
    "        )\n",
    "    ],\n",
    "    responses=[SentinelHubRequest.output_response(\"default\", MimeType.PNG)],\n",
    "    bbox=hyd_bbox,\n",
    "    size=hyd_size,\n",
    "    config=config,\n",
    ")"
   ]
  },
  {
   "cell_type": "code",
   "execution_count": 5,
   "metadata": {},
   "outputs": [],
   "source": [
    "image = request_monthly.get_data()[0]"
   ]
  },
  {
   "cell_type": "code",
   "execution_count": 6,
   "metadata": {},
   "outputs": [
    {
     "data": {
      "image/png": "[encoded data removed]",
      "text/plain": [
       "<Figure size 1500x1500 with 1 Axes>"
      ]
     },
     "metadata": {},
     "output_type": "display_data"
    }
   ],
   "source": [
    "%matplotlib inline\n",
    "\n",
    "# The following is not a package. It is a file utils.py which should be in the same folder as this notebook.\n",
    "from utils import plot_image\n",
    "\n",
    "plot_image(image, factor=3.5 / 255, clip_range=(0, 1))"
   ]
  }
 ],
 "metadata": {
  "kernelspec": {
   "display_name": "climate",
   "language": "python",
   "name": "python3"
  },
  "language_info": {
   "codemirror_mode": {
    "name": "ipython",
    "version": 3
   },
   "file_extension": ".py",
   "mimetype": "text/x-python",
   "name": "python",
   "nbconvert_exporter": "python",
   "pygments_lexer": "ipython3",
   "version": "3.9.19"
  }
 },
 "nbformat": 4,
 "nbformat_minor": 2
}

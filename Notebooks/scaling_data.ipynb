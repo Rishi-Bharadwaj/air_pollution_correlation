{
 "cells": [
  {
   "cell_type": "code",
   "execution_count": 19,
   "metadata": {},
   "outputs": [
    {
     "name": "stdout",
     "output_type": "stream",
     "text": [
      "Bounding Box Coordinates:\n",
      "xmin: 78.00071612009806, ymin: 16.928751529232382, xmax: 79.0517450025179, ymax: 17.903423612502063\n"
     ]
    }
   ],
   "source": [
    "import pandas as pd\n",
    "import numpy as np\n",
    "from osgeo import gdal\n",
    "\n",
    "# Open the TIFF file\n",
    "dataset = gdal.Open('ndvi.tif')\n",
    "\n",
    "# Get the affine transform\n",
    "geotransform = dataset.GetGeoTransform()\n",
    "\n",
    "# Extract coordinates from the affine transform\n",
    "# geotransform is a tuple with 6 values:\n",
    "# (top left x, pixel width, 0, top left y, 0, pixel height)\n",
    "\n",
    "minx1 = geotransform[0]  # Top-left x (xmin)\n",
    "maxy1 = geotransform[3]  # Top-left y (ymax)\n",
    "pixel_width = geotransform[1]\n",
    "pixel_height = geotransform[5]\n",
    "\n",
    "# Calculate maxx (bottom-right x) and miny (bottom-right y)\n",
    "maxx1 = minx1 + (dataset.RasterXSize * pixel_width)  # xmax\n",
    "miny1 = maxy1 + (dataset.RasterYSize * pixel_height)  # ymin (pixel_height is negative)\n",
    "\n",
    "# Print bounding box\n",
    "print(f'Bounding Box Coordinates:')\n",
    "print(f'xmin: {minx1}, ymin: {miny1}, xmax: {maxx1}, ymax: {maxy1}')\n",
    "\n",
    "# Close the dataset\n",
    "dataset = None\n"
   ]
  },
  {
   "cell_type": "code",
   "execution_count": 20,
   "metadata": {},
   "outputs": [
    {
     "name": "stdout",
     "output_type": "stream",
     "text": [
      "Bounding Box Coordinates:\n",
      "xmin: 78.00405826, ymin: 16.93264351, xmax: 79.04971836, ymax: 17.90150706\n"
     ]
    }
   ],
   "source": [
    "import pandas as pd\n",
    "import numpy as np\n",
    "from osgeo import gdal\n",
    "\n",
    "# Open the TIFF file\n",
    "dataset = gdal.Open(r'C:\\Users\\rishi\\ml_projects\\climate\\Intermediate outputs\\CO_images_all\\2018_December.tif')\n",
    "\n",
    "# Get the affine transform\n",
    "geotransform = dataset.GetGeoTransform()\n",
    "\n",
    "# Extract coordinates from the affine transform\n",
    "# geotransform is a tuple with 6 values:\n",
    "# (top left x, pixel width, 0, top left y, 0, pixel height)\n",
    "\n",
    "minx2 = geotransform[0]  # Top-left x (xmin)\n",
    "maxy2 = geotransform[3]  # Top-left y (ymax)\n",
    "pixel_width = geotransform[1]\n",
    "pixel_height = geotransform[5]\n",
    "\n",
    "# Calculate maxx (bottom-right x) and miny (bottom-right y)\n",
    "maxx2 = minx2 + (dataset.RasterXSize * pixel_width)  # xmax\n",
    "miny2 = maxy2 + (dataset.RasterYSize * pixel_height)  # ymin (pixel_height is negative)\n",
    "\n",
    "# Print bounding box\n",
    "print(f'Bounding Box Coordinates:')\n",
    "print(f'xmin: {minx2}, ymin: {miny2}, xmax: {maxx2}, ymax: {maxy2}')\n",
    "\n",
    "# Close the dataset\n",
    "dataset = None\n"
   ]
  },
  {
   "cell_type": "code",
   "execution_count": 22,
   "metadata": {},
   "outputs": [
    {
     "name": "stdout",
     "output_type": "stream",
     "text": [
      "(78.00071612009806, 16.928751529232382, 79.0517450025179, 17.903423612502063)\n"
     ]
    }
   ],
   "source": [
    "common_xmin = min(minx1, minx2)\n",
    "common_ymin = min(miny1, miny2)\n",
    "common_xmax = max(maxx1, maxx2)\n",
    "common_ymax = max(maxy1, maxy2)\n",
    "\n",
    "# Use the common bounding box\n",
    "target_bbox = (common_xmin, common_ymin, common_xmax, common_ymax)\n",
    "print(target_bbox)"
   ]
  },
  {
   "cell_type": "code",
   "execution_count": 23,
   "metadata": {},
   "outputs": [
    {
     "name": "stdout",
     "output_type": "stream",
     "text": [
      "Cropped image saved as cropped_image.tif\n"
     ]
    }
   ],
   "source": [
    "from osgeo import gdal\n",
    "\n",
    "# Path to the input image\n",
    "input_image = 'nlst3.tif'\n",
    "\n",
    "# Define the target bounding box (xmin, ymin, xmax, ymax)\n",
    "# These are the coordinates of the bounding box you want to crop to.\n",
    "target_bbox = [78.00405826, 16.93264351, 79.04971836, 17.90150706]\n",
    "\n",
    "# Path for the output cropped image\n",
    "output_image = 'cropped_image.tif'\n",
    "\n",
    "# Open the image using GDAL\n",
    "dataset = gdal.Open(input_image)\n",
    "\n",
    "# Crop the image using gdal.Warp\n",
    "gdal.Warp(output_image, dataset, outputBounds=target_bbox)\n",
    "\n",
    "# Close the dataset\n",
    "dataset = None\n",
    "\n",
    "print(f'Cropped image saved as {output_image}')"
   ]
  },
  {
   "cell_type": "code",
   "execution_count": 24,
   "metadata": {},
   "outputs": [
    {
     "name": "stdout",
     "output_type": "stream",
     "text": [
      "Bounding Box Coordinates:\n",
      "xmin: 78.00405826, ymin: 16.93264351, xmax: 79.04971836, ymax: 17.90150706\n"
     ]
    }
   ],
   "source": [
    "import pandas as pd\n",
    "import numpy as np\n",
    "from osgeo import gdal\n",
    "\n",
    "# Open the TIFF file\n",
    "dataset = gdal.Open(r'C:\\Users\\rishi\\ml_projects\\climate\\cropped_image.tif')\n",
    "\n",
    "# Get the affine transform\n",
    "geotransform = dataset.GetGeoTransform()\n",
    "\n",
    "# Extract coordinates from the affine transform\n",
    "# geotransform is a tuple with 6 values:\n",
    "# (top left x, pixel width, 0, top left y, 0, pixel height)\n",
    "\n",
    "minx2 = geotransform[0]  # Top-left x (xmin)\n",
    "maxy2 = geotransform[3]  # Top-left y (ymax)\n",
    "pixel_width = geotransform[1]\n",
    "pixel_height = geotransform[5]\n",
    "\n",
    "# Calculate maxx (bottom-right x) and miny (bottom-right y)\n",
    "maxx2 = minx2 + (dataset.RasterXSize * pixel_width)  # xmax\n",
    "miny2 = maxy2 + (dataset.RasterYSize * pixel_height)  # ymin (pixel_height is negative)\n",
    "\n",
    "# Print bounding box\n",
    "print(f'Bounding Box Coordinates:')\n",
    "print(f'xmin: {minx2}, ymin: {miny2}, xmax: {maxx2}, ymax: {maxy2}')\n",
    "\n",
    "# Close the dataset\n",
    "dataset = None\n"
   ]
  }
 ],
 "metadata": {
  "kernelspec": {
   "display_name": "climate",
   "language": "python",
   "name": "python3"
  },
  "language_info": {
   "codemirror_mode": {
    "name": "ipython",
    "version": 3
   },
   "file_extension": ".py",
   "mimetype": "text/x-python",
   "name": "python",
   "nbconvert_exporter": "python",
   "pygments_lexer": "ipython3",
   "version": "3.9.19"
  }
 },
 "nbformat": 4,
 "nbformat_minor": 2
}

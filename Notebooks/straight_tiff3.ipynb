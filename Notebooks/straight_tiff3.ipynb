{
 "cells": [
  {
   "cell_type": "code",
   "execution_count": 35,
   "metadata": {},
   "outputs": [],
   "source": [
    "from sentinelhub import SHConfig\n",
    "\n",
    "config = SHConfig()\n",
    "config.sh_client_id = 'sh-fe080851-d462-4304-9f4d-1b7fd7c7dc95'\n",
    "config.sh_client_secret = 'XBnxUPfjs1duw9wmexDpoVmhTbY6piHw'\n",
    "config.sh_base_url = 'https://sh.dataspace.copernicus.eu'\n",
    "config.sh_token_url = 'https://identity.dataspace.copernicus.eu/auth/realms/CDSE/protocol/openid-connect/token'"
   ]
  },
  {
   "cell_type": "code",
   "execution_count": 36,
   "metadata": {},
   "outputs": [],
   "source": [
    "import datetime\n",
    "import os\n",
    "import cartopy.crs as ccrs\n",
    "import matplotlib.pyplot as plt\n",
    "import numpy as np\n",
    "import rasterio\n",
    "from rasterio.transform import from_bounds\n",
    "from pathlib import Path\n",
    "from sentinelhub import (\n",
    "    CRS,\n",
    "    BBox,\n",
    "    DataCollection,\n",
    "    DownloadRequest,\n",
    "    MimeType,\n",
    "    MosaickingOrder,\n",
    "    SentinelHubDownloadClient,\n",
    "    SentinelHubRequest,\n",
    "    bbox_to_dimensions,\n",
    ")\n"
   ]
  },
  {
   "cell_type": "code",
   "execution_count": 37,
   "metadata": {},
   "outputs": [
    {
     "name": "stdout",
     "output_type": "stream",
     "text": [
      "Image shape at (500, 500) m resolution: (225, 212) pixels\n"
     ]
    }
   ],
   "source": [
    "hyd_coords_wgs84 = (78.00405826,16.93264351,79.04971836,17.90150706)\n",
    "resolution=(500,500)\n",
    "hyd_bbox = BBox(bbox=hyd_coords_wgs84, crs=CRS.WGS84)\n",
    "hyd_size = bbox_to_dimensions(hyd_bbox, resolution=resolution)\n",
    "\n",
    "print(f\"Image shape at {resolution} m resolution: {hyd_size} pixels\")"
   ]
  },
  {
   "cell_type": "code",
   "execution_count": 38,
   "metadata": {},
   "outputs": [],
   "source": [
    "evalscript_mean_mosaic = \"\"\"\n",
    "//VERSION=3\n",
    "function setup() {\n",
    "    return {\n",
    "        input: [\"NO2\", \"dataMask\"],\n",
    "        output: {\n",
    "            bands: 1,\n",
    "            sampleType: \"FLOAT32\",\n",
    "        },\n",
    "        mosaicking: \"ORBIT\"\n",
    "    };\n",
    "}\n",
    "\n",
    "function isClear(sample) {\n",
    "    return sample.dataMask == 1;\n",
    "}\n",
    "\n",
    "function sum(array) {\n",
    "    let sum = 0;\n",
    "    for (let i = 0; i < array.length; i++) {\n",
    "        sum += array[i].NO2;\n",
    "    }\n",
    "    return sum;\n",
    "}\n",
    "\n",
    "function evaluatePixel(samples) {\n",
    "    const clearTs = samples.filter(isClear)\n",
    "    const mean = sum(clearTs) / clearTs.length\n",
    "    return [mean]\n",
    "}\n",
    "\"\"\""
   ]
  },
  {
   "cell_type": "code",
   "execution_count": 39,
   "metadata": {},
   "outputs": [],
   "source": [
    "def get_data(time_interval):\n",
    "    request = SentinelHubRequest(\n",
    "        evalscript=evalscript_mean_mosaic,\n",
    "        input_data=[\n",
    "            SentinelHubRequest.input_data(\n",
    "                data_collection=DataCollection.SENTINEL5P.define_from(\n",
    "                    \"s5pl2\", service_url=config.sh_base_url\n",
    "                ),\n",
    "                time_interval=time_interval,\n",
    "            )\n",
    "        ],\n",
    "        responses=[SentinelHubRequest.output_response(\"default\", MimeType.TIFF)],\n",
    "        bbox=hyd_bbox,\n",
    "        size=hyd_size,\n",
    "        config=config,\n",
    "        data_folder=r\"C:\\Users\\rishi\\ml_projects\\climate\\temp_18_a\\NO2\",\n",
    "    )\n",
    "    raw_data = request.get_data(save_data=True)\n",
    "    return raw_data[0]"
   ]
  },
  {
   "cell_type": "code",
   "execution_count": 40,
   "metadata": {},
   "outputs": [
    {
     "data": {
      "text/plain": [
       "array([[3.6480971e-05, 3.5828907e-05, 3.5310404e-05, ..., 3.4005938e-05,\n",
       "        3.4663906e-05, 3.4409997e-05],\n",
       "       [3.6480971e-05, 3.7684185e-05, 3.6367721e-05, ..., 3.3432967e-05,\n",
       "        3.3586108e-05, 3.4425364e-05],\n",
       "       [3.7293245e-05, 3.7791207e-05, 3.7511098e-05, ..., 3.2493139e-05,\n",
       "        3.1940879e-05, 3.1427695e-05],\n",
       "       ...,\n",
       "       [3.0869593e-05, 3.0638446e-05, 3.1086987e-05, ..., 3.1709918e-05,\n",
       "        3.2349202e-05, 3.2144952e-05],\n",
       "       [3.0869593e-05, 3.1533647e-05, 3.1086987e-05, ..., 3.2441501e-05,\n",
       "        3.1959262e-05, 3.1689502e-05],\n",
       "       [3.0959603e-05, 3.1871310e-05, 3.0976109e-05, ..., 3.0776231e-05,\n",
       "        3.1769661e-05, 3.1968568e-05]], dtype=float32)"
      ]
     },
     "execution_count": 40,
     "metadata": {},
     "output_type": "execute_result"
    }
   ],
   "source": [
    "get_data((\"2018-12-1\", \"2018-12-31\"))"
   ]
  },
  {
   "cell_type": "code",
   "execution_count": 41,
   "metadata": {},
   "outputs": [],
   "source": [
    "# months = {\n",
    "#     1: (\"January\", 31),\n",
    "#     2: (\"February\", 28),\n",
    "#     3: (\"March\", 31),\n",
    "#     4: (\"April\", 30),\n",
    "#     5: (\"May\", 31),\n",
    "#     6: (\"June\", 30),\n",
    "#     7: (\"July\", 31),\n",
    "#     8: (\"August\", 31),\n",
    "#     9: (\"September\", 30),\n",
    "#     10: (\"October\", 31),\n",
    "#     11: (\"November\", 30),\n",
    "#     12: (\"December\", 31)\n",
    "# }\n",
    "# vals=[]\n",
    "# output_dir=r\"C:\\Users\\rishi\\ml_projects\\climate\\2023_data\\NO2\"\n",
    "# for i in range(5,8):\n",
    "#     month_name, end_day = months[i]\n",
    "#     start=f\"2023-{i}-1\"\n",
    "#     end = f\"2023-{i}-{end_day}\"\n",
    "#     time_interval=(start,end)\n",
    "#     arr=get_data(time_interval)\n",
    "#     path=os.path.join(output_dir, f'{month_name}_NO2.csv')\n",
    "#     np.savetxt(path, arr, delimiter=',')"
   ]
  },
  {
   "cell_type": "code",
   "execution_count": 42,
   "metadata": {},
   "outputs": [],
   "source": [
    "# months = {\n",
    "#     1: (\"January\", 31),\n",
    "#     2: (\"February\", 28),\n",
    "#     3: (\"March\", 31),\n",
    "#     4: (\"April\", 30),\n",
    "#     5: (\"May\", 31),\n",
    "#     6: (\"June\", 30),\n",
    "#     7: (\"July\", 31),\n",
    "#     8: (\"August\", 31),\n",
    "#     9: (\"September\", 30),\n",
    "#     10: (\"October\", 31),\n",
    "#     11: (\"November\", 30),\n",
    "#     12: (\"December\", 31)\n",
    "# }\n",
    "# vals=[]\n",
    "# output_dir=r\"C:\\Users\\rishi\\ml_projects\\climate\\2023_data\\NO2\"\n",
    "# for i in range(5,8):\n",
    "#     month_name, end_day = months[i]\n",
    "#     start=f\"2023-{i}-1\"\n",
    "#     end = f\"2023-{i}-{end_day}\"\n",
    "#     time_interval=(start,end)\n",
    "#     arr=get_data(time_interval)\n",
    "#     path=os.path.join(output_dir, f'{month_name}_NO2.csv')\n",
    "#     np.savetxt(path, arr, delimiter=',')"
   ]
  },
  {
   "cell_type": "code",
   "execution_count": 43,
   "metadata": {},
   "outputs": [
    {
     "ename": "RasterioIOError",
     "evalue": "C:/Users/rishi/ml_projects/climate/temp_18/NO2/a8348adcc9b838d21003a51523c6fe0b/response.tiff: No such file or directory",
     "output_type": "error",
     "traceback": [
      "\u001b[1;31m---------------------------------------------------------------------------\u001b[0m",
      "\u001b[1;31mCPLE_OpenFailedError\u001b[0m                      Traceback (most recent call last)",
      "File \u001b[1;32mrasterio\\\\_base.pyx:310\u001b[0m, in \u001b[0;36mrasterio._base.DatasetBase.__init__\u001b[1;34m()\u001b[0m\n",
      "File \u001b[1;32mrasterio\\\\_base.pyx:221\u001b[0m, in \u001b[0;36mrasterio._base.open_dataset\u001b[1;34m()\u001b[0m\n",
      "File \u001b[1;32mrasterio\\\\_err.pyx:221\u001b[0m, in \u001b[0;36mrasterio._err.exc_wrap_pointer\u001b[1;34m()\u001b[0m\n",
      "\u001b[1;31mCPLE_OpenFailedError\u001b[0m: C:/Users/rishi/ml_projects/climate/temp_18/NO2/a8348adcc9b838d21003a51523c6fe0b/response.tiff: No such file or directory",
      "\nDuring handling of the above exception, another exception occurred:\n",
      "\u001b[1;31mRasterioIOError\u001b[0m                           Traceback (most recent call last)",
      "Cell \u001b[1;32mIn[43], line 17\u001b[0m\n\u001b[0;32m     15\u001b[0m \u001b[38;5;66;03m# Open the GeoTIFF file\u001b[39;00m\n\u001b[0;32m     16\u001b[0m tiff_file \u001b[38;5;241m=\u001b[39m \u001b[38;5;124mr\u001b[39m\u001b[38;5;124m'\u001b[39m\u001b[38;5;124mC:\u001b[39m\u001b[38;5;124m\\\u001b[39m\u001b[38;5;124mUsers\u001b[39m\u001b[38;5;124m\\\u001b[39m\u001b[38;5;124mrishi\u001b[39m\u001b[38;5;124m\\\u001b[39m\u001b[38;5;124mml_projects\u001b[39m\u001b[38;5;124m\\\u001b[39m\u001b[38;5;124mclimate\u001b[39m\u001b[38;5;124m\\\u001b[39m\u001b[38;5;124mtemp_18\u001b[39m\u001b[38;5;124m\\\u001b[39m\u001b[38;5;124mNO2\u001b[39m\u001b[38;5;124m\\\u001b[39m\u001b[38;5;124ma8348adcc9b838d21003a51523c6fe0b\u001b[39m\u001b[38;5;124m\\\u001b[39m\u001b[38;5;124mresponse.tiff\u001b[39m\u001b[38;5;124m'\u001b[39m\n\u001b[1;32m---> 17\u001b[0m \u001b[38;5;28;01mwith\u001b[39;00m \u001b[43mrasterio\u001b[49m\u001b[38;5;241;43m.\u001b[39;49m\u001b[43mopen\u001b[49m\u001b[43m(\u001b[49m\u001b[43mtiff_file\u001b[49m\u001b[43m)\u001b[49m \u001b[38;5;28;01mas\u001b[39;00m dataset:\n\u001b[0;32m     18\u001b[0m     \u001b[38;5;66;03m# Create a normalization instance\u001b[39;00m\n\u001b[0;32m     19\u001b[0m     norm \u001b[38;5;241m=\u001b[39m mcolors\u001b[38;5;241m.\u001b[39mNormalize(vmin\u001b[38;5;241m=\u001b[39mvmin, vmax\u001b[38;5;241m=\u001b[39mvmax)\n\u001b[0;32m     21\u001b[0m     \u001b[38;5;66;03m# Display the image with geospatial context\u001b[39;00m\n",
      "File \u001b[1;32mc:\\Users\\rishi\\anaconda3\\envs\\climate\\lib\\site-packages\\rasterio\\env.py:451\u001b[0m, in \u001b[0;36mensure_env_with_credentials.<locals>.wrapper\u001b[1;34m(*args, **kwds)\u001b[0m\n\u001b[0;32m    448\u001b[0m     session \u001b[38;5;241m=\u001b[39m DummySession()\n\u001b[0;32m    450\u001b[0m \u001b[38;5;28;01mwith\u001b[39;00m env_ctor(session\u001b[38;5;241m=\u001b[39msession):\n\u001b[1;32m--> 451\u001b[0m     \u001b[38;5;28;01mreturn\u001b[39;00m f(\u001b[38;5;241m*\u001b[39margs, \u001b[38;5;241m*\u001b[39m\u001b[38;5;241m*\u001b[39mkwds)\n",
      "File \u001b[1;32mc:\\Users\\rishi\\anaconda3\\envs\\climate\\lib\\site-packages\\rasterio\\__init__.py:332\u001b[0m, in \u001b[0;36mopen\u001b[1;34m(fp, mode, driver, width, height, count, crs, transform, dtype, nodata, sharing, **kwargs)\u001b[0m\n\u001b[0;32m    329\u001b[0m path \u001b[38;5;241m=\u001b[39m _parse_path(raw_dataset_path)\n\u001b[0;32m    331\u001b[0m \u001b[38;5;28;01mif\u001b[39;00m mode \u001b[38;5;241m==\u001b[39m \u001b[38;5;124m\"\u001b[39m\u001b[38;5;124mr\u001b[39m\u001b[38;5;124m\"\u001b[39m:\n\u001b[1;32m--> 332\u001b[0m     dataset \u001b[38;5;241m=\u001b[39m DatasetReader(path, driver\u001b[38;5;241m=\u001b[39mdriver, sharing\u001b[38;5;241m=\u001b[39msharing, \u001b[38;5;241m*\u001b[39m\u001b[38;5;241m*\u001b[39mkwargs)\n\u001b[0;32m    333\u001b[0m \u001b[38;5;28;01melif\u001b[39;00m mode \u001b[38;5;241m==\u001b[39m \u001b[38;5;124m\"\u001b[39m\u001b[38;5;124mr+\u001b[39m\u001b[38;5;124m\"\u001b[39m:\n\u001b[0;32m    334\u001b[0m     dataset \u001b[38;5;241m=\u001b[39m get_writer_for_path(path, driver\u001b[38;5;241m=\u001b[39mdriver)(\n\u001b[0;32m    335\u001b[0m         path, mode, driver\u001b[38;5;241m=\u001b[39mdriver, sharing\u001b[38;5;241m=\u001b[39msharing, \u001b[38;5;241m*\u001b[39m\u001b[38;5;241m*\u001b[39mkwargs\n\u001b[0;32m    336\u001b[0m     )\n",
      "File \u001b[1;32mrasterio\\\\_base.pyx:312\u001b[0m, in \u001b[0;36mrasterio._base.DatasetBase.__init__\u001b[1;34m()\u001b[0m\n",
      "\u001b[1;31mRasterioIOError\u001b[0m: C:/Users/rishi/ml_projects/climate/temp_18/NO2/a8348adcc9b838d21003a51523c6fe0b/response.tiff: No such file or directory"
     ]
    }
   ],
   "source": [
    "import geopandas as gpd\n",
    "\n",
    "# Load the shapefile\n",
    "shapefile_path = r'C:\\Users\\rishi\\ml_projects\\climate\\hmda_boundary\\hmda_boundary.shp'\n",
    "gdf = gpd.read_file(shapefile_path)\n",
    "\n",
    "import rasterio\n",
    "from rasterio.plot import show\n",
    "import matplotlib.pyplot as plt\n",
    "import matplotlib.colors as mcolors\n",
    "# Load the GeoTIFF file\n",
    "vmin = .1072  # Minimum value for normalization\n",
    "vmax = .1086  # Maximum value for normalization\n",
    "\n",
    "# Open the GeoTIFF file\n",
    "tiff_file = r'C:\\Users\\rishi\\ml_projects\\climate\\temp_18\\NO2\\a8348adcc9b838d21003a51523c6fe0b\\response.tiff'\n",
    "with rasterio.open(tiff_file) as dataset:\n",
    "    # Create a normalization instance\n",
    "    norm = mcolors.Normalize(vmin=vmin, vmax=vmax)\n",
    "    \n",
    "    # Display the image with geospatial context\n",
    "    fig, ax = plt.subplots(figsize=(10, 10))\n",
    "    show(dataset, ax=ax, cmap='rainbow')\n",
    "    plt.title('GeoTIFF Data Visualization')\n",
    "    \n",
    "    # Add a colorbar with the same normalization\n",
    "    plt.colorbar(ax.images[0], ax=ax, orientation='vertical')\n",
    "    \n",
    "    # Plot the boundary of the GeoDataFrame\n",
    "    gdf.boundary.plot(ax=ax, edgecolor='black')\n",
    "    \n",
    "    plt.show()"
   ]
  },
  {
   "cell_type": "code",
   "execution_count": 19,
   "metadata": {},
   "outputs": [
    {
     "ename": "RasterioIOError",
     "evalue": "C:/Users/rishi/ml_projects/climate/Notebooks/data/no2/f977e6499a361aef51600fe76d79be8d/response.tiff: No such file or directory",
     "output_type": "error",
     "traceback": [
      "\u001b[1;31m---------------------------------------------------------------------------\u001b[0m",
      "\u001b[1;31mCPLE_OpenFailedError\u001b[0m                      Traceback (most recent call last)",
      "File \u001b[1;32mrasterio\\\\_base.pyx:310\u001b[0m, in \u001b[0;36mrasterio._base.DatasetBase.__init__\u001b[1;34m()\u001b[0m\n",
      "File \u001b[1;32mrasterio\\\\_base.pyx:221\u001b[0m, in \u001b[0;36mrasterio._base.open_dataset\u001b[1;34m()\u001b[0m\n",
      "File \u001b[1;32mrasterio\\\\_err.pyx:221\u001b[0m, in \u001b[0;36mrasterio._err.exc_wrap_pointer\u001b[1;34m()\u001b[0m\n",
      "\u001b[1;31mCPLE_OpenFailedError\u001b[0m: C:/Users/rishi/ml_projects/climate/Notebooks/data/no2/f977e6499a361aef51600fe76d79be8d/response.tiff: No such file or directory",
      "\nDuring handling of the above exception, another exception occurred:\n",
      "\u001b[1;31mRasterioIOError\u001b[0m                           Traceback (most recent call last)",
      "Cell \u001b[1;32mIn[19], line 21\u001b[0m\n\u001b[0;32m     19\u001b[0m \u001b[38;5;66;03m# Open the GeoTIFF file(78.00405826,16.93264351,79.04971836,17.90150706)\u001b[39;00m\n\u001b[0;32m     20\u001b[0m tiff_file \u001b[38;5;241m=\u001b[39m \u001b[38;5;124mr\u001b[39m\u001b[38;5;124m'\u001b[39m\u001b[38;5;124mC:\u001b[39m\u001b[38;5;124m\\\u001b[39m\u001b[38;5;124mUsers\u001b[39m\u001b[38;5;124m\\\u001b[39m\u001b[38;5;124mrishi\u001b[39m\u001b[38;5;124m\\\u001b[39m\u001b[38;5;124mml_projects\u001b[39m\u001b[38;5;124m\\\u001b[39m\u001b[38;5;124mclimate\u001b[39m\u001b[38;5;124m\\\u001b[39m\u001b[38;5;124mNotebooks\u001b[39m\u001b[38;5;124m\\\u001b[39m\u001b[38;5;124mdata\u001b[39m\u001b[38;5;124m\\\u001b[39m\u001b[38;5;124mno2\u001b[39m\u001b[38;5;124m\\\u001b[39m\u001b[38;5;124mf977e6499a361aef51600fe76d79be8d\u001b[39m\u001b[38;5;124m\\\u001b[39m\u001b[38;5;124mresponse.tiff\u001b[39m\u001b[38;5;124m'\u001b[39m\n\u001b[1;32m---> 21\u001b[0m \u001b[38;5;28;01mwith\u001b[39;00m \u001b[43mrasterio\u001b[49m\u001b[38;5;241;43m.\u001b[39;49m\u001b[43mopen\u001b[49m\u001b[43m(\u001b[49m\u001b[43mtiff_file\u001b[49m\u001b[43m)\u001b[49m \u001b[38;5;28;01mas\u001b[39;00m dataset:\n\u001b[0;32m     22\u001b[0m     \u001b[38;5;66;03m# Create a normalization instance\u001b[39;00m\n\u001b[0;32m     23\u001b[0m     norm \u001b[38;5;241m=\u001b[39m mcolors\u001b[38;5;241m.\u001b[39mNormalize(vmin\u001b[38;5;241m=\u001b[39mvmin, vmax\u001b[38;5;241m=\u001b[39mvmax)\n\u001b[0;32m     25\u001b[0m     \u001b[38;5;66;03m# Display the image with geospatial context\u001b[39;00m\n",
      "File \u001b[1;32mc:\\Users\\rishi\\anaconda3\\envs\\climate\\lib\\site-packages\\rasterio\\env.py:451\u001b[0m, in \u001b[0;36mensure_env_with_credentials.<locals>.wrapper\u001b[1;34m(*args, **kwds)\u001b[0m\n\u001b[0;32m    448\u001b[0m     session \u001b[38;5;241m=\u001b[39m DummySession()\n\u001b[0;32m    450\u001b[0m \u001b[38;5;28;01mwith\u001b[39;00m env_ctor(session\u001b[38;5;241m=\u001b[39msession):\n\u001b[1;32m--> 451\u001b[0m     \u001b[38;5;28;01mreturn\u001b[39;00m f(\u001b[38;5;241m*\u001b[39margs, \u001b[38;5;241m*\u001b[39m\u001b[38;5;241m*\u001b[39mkwds)\n",
      "File \u001b[1;32mc:\\Users\\rishi\\anaconda3\\envs\\climate\\lib\\site-packages\\rasterio\\__init__.py:332\u001b[0m, in \u001b[0;36mopen\u001b[1;34m(fp, mode, driver, width, height, count, crs, transform, dtype, nodata, sharing, **kwargs)\u001b[0m\n\u001b[0;32m    329\u001b[0m path \u001b[38;5;241m=\u001b[39m _parse_path(raw_dataset_path)\n\u001b[0;32m    331\u001b[0m \u001b[38;5;28;01mif\u001b[39;00m mode \u001b[38;5;241m==\u001b[39m \u001b[38;5;124m\"\u001b[39m\u001b[38;5;124mr\u001b[39m\u001b[38;5;124m\"\u001b[39m:\n\u001b[1;32m--> 332\u001b[0m     dataset \u001b[38;5;241m=\u001b[39m DatasetReader(path, driver\u001b[38;5;241m=\u001b[39mdriver, sharing\u001b[38;5;241m=\u001b[39msharing, \u001b[38;5;241m*\u001b[39m\u001b[38;5;241m*\u001b[39mkwargs)\n\u001b[0;32m    333\u001b[0m \u001b[38;5;28;01melif\u001b[39;00m mode \u001b[38;5;241m==\u001b[39m \u001b[38;5;124m\"\u001b[39m\u001b[38;5;124mr+\u001b[39m\u001b[38;5;124m\"\u001b[39m:\n\u001b[0;32m    334\u001b[0m     dataset \u001b[38;5;241m=\u001b[39m get_writer_for_path(path, driver\u001b[38;5;241m=\u001b[39mdriver)(\n\u001b[0;32m    335\u001b[0m         path, mode, driver\u001b[38;5;241m=\u001b[39mdriver, sharing\u001b[38;5;241m=\u001b[39msharing, \u001b[38;5;241m*\u001b[39m\u001b[38;5;241m*\u001b[39mkwargs\n\u001b[0;32m    336\u001b[0m     )\n",
      "File \u001b[1;32mrasterio\\\\_base.pyx:312\u001b[0m, in \u001b[0;36mrasterio._base.DatasetBase.__init__\u001b[1;34m()\u001b[0m\n",
      "\u001b[1;31mRasterioIOError\u001b[0m: C:/Users/rishi/ml_projects/climate/Notebooks/data/no2/f977e6499a361aef51600fe76d79be8d/response.tiff: No such file or directory"
     ]
    }
   ],
   "source": [
    "import geopandas as gpd\n",
    "import rasterio\n",
    "from rasterio.plot import show\n",
    "import matplotlib.pyplot as plt\n",
    "import matplotlib.colors as mcolors\n",
    "from matplotlib.patches import Rectangle\n",
    "\n",
    "# Load the shapefile\n",
    "shapefile_path = r'C:\\Users\\rishi\\ml_projects\\climate\\hmda_boundary\\hmda_boundary.shp'\n",
    "gdf = gpd.read_file(shapefile_path)\n",
    "\n",
    "# Load the GeoTIFF file\n",
    "vmin = .1072  # Minimum value for normalization\n",
    "vmax = .1086  # Maximum value for normalization\n",
    "\n",
    "# Define the bounding box coordinates (minx, miny, maxx, maxy)\n",
    "bbox_coords = [78.39962, 17.320, 78.5922, 17.482]  # Replace with actual coordinates\n",
    "\n",
    "# Open the GeoTIFF file(78.00405826,16.93264351,79.04971836,17.90150706)\n",
    "tiff_file = r'C:\\Users\\rishi\\ml_projects\\climate\\Notebooks\\data\\no2\\f977e6499a361aef51600fe76d79be8d\\response.tiff'\n",
    "with rasterio.open(tiff_file) as dataset:\n",
    "    # Create a normalization instance\n",
    "    norm = mcolors.Normalize(vmin=vmin, vmax=vmax)\n",
    "    \n",
    "    # Display the image with geospatial context\n",
    "    fig, ax = plt.subplots(figsize=(10, 10))\n",
    "    show(dataset, ax=ax, cmap='rainbow')\n",
    "    plt.title('GeoTIFF Data Visualization')\n",
    "    \n",
    "    # Add a colorbar with the same normalization\n",
    "    plt.colorbar(ax.images[0], ax=ax, orientation='vertical')\n",
    "    \n",
    "    # Plot the boundary of the GeoDataFrame\n",
    "    gdf.boundary.plot(ax=ax, edgecolor='black')\n",
    "    \n",
    "    # Add the bounding box in white\n",
    "    bbox = Rectangle((bbox_coords[0], bbox_coords[1]),  # Lower-left corner\n",
    "                     bbox_coords[2] - bbox_coords[0],  # Width\n",
    "                     bbox_coords[3] - bbox_coords[1],  # Height\n",
    "                     linewidth=3, edgecolor='black', facecolor='black')\n",
    "    ax.add_patch(bbox)\n",
    "    \n",
    "    plt.show()\n"
   ]
  },
  {
   "cell_type": "code",
   "execution_count": 12,
   "metadata": {},
   "outputs": [
    {
     "name": "stdout",
     "output_type": "stream",
     "text": [
      "{'driver': 'GTiff', 'dtype': 'float32', 'nodata': None, 'width': 225, 'height': 212, 'count': 1, 'crs': CRS.from_epsg(4326), 'transform': Affine(0.00464737822222225, 0.0, 78.00405826,\n",
      "       0.0, -0.004570111084905669, 17.90150706)}\n",
      "The GeoTIFF file has 1 band(s).\n",
      "Bounds: BoundingBox(left=78.00405826, bottom=16.93264351, right=79.04971836, top=17.90150706)\n",
      "Data shape: (212, 225)\n",
      "[[2.1347754e-05 1.8042352e-05 1.9794054e-05 ... 1.9593117e-05\n",
      "  2.3457347e-05 2.3457347e-05]\n",
      " [2.1347754e-05 2.1117701e-05 2.3638238e-05 ... 1.9593117e-05\n",
      "  2.2249007e-05 2.0876305e-05]\n",
      " [2.1347754e-05 2.1117701e-05 2.3638238e-05 ... 1.8740398e-05\n",
      "  2.0018191e-05 2.0018191e-05]\n",
      " [2.1347754e-05 2.1117701e-05 2.1117701e-05 ... 1.7648119e-05\n",
      "  1.7984414e-05 1.7984414e-05]\n",
      " [2.2105642e-05 2.2105642e-05 2.1628603e-05 ... 1.8055514e-05\n",
      "  1.6706621e-05 1.7984414e-05]]\n"
     ]
    }
   ],
   "source": [
    "with rasterio.open(tiff_file) as dataset:\n",
    "    # Print metadata\n",
    "    print(dataset.meta)\n",
    "    num_bands = dataset.count\n",
    "    print(f\"The GeoTIFF file has {num_bands} band(s).\")\n",
    "    # Get the spatial extent (bounding box)\n",
    "    print(\"Bounds:\", dataset.bounds)\n",
    "    \n",
    "    # Read the data as a numpy array (e.g., first band)\n",
    "    data = dataset.read(1)\n",
    "    print(\"Data shape:\", data.shape)\n",
    "    print(data[:5][:5])"
   ]
  }
 ],
 "metadata": {
  "kernelspec": {
   "display_name": "climate",
   "language": "python",
   "name": "python3"
  },
  "language_info": {
   "codemirror_mode": {
    "name": "ipython",
    "version": 3
   },
   "file_extension": ".py",
   "mimetype": "text/x-python",
   "name": "python",
   "nbconvert_exporter": "python",
   "pygments_lexer": "ipython3",
   "version": "3.9.19"
  }
 },
 "nbformat": 4,
 "nbformat_minor": 2
}

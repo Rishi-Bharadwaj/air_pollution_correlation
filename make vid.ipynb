{
 "cells": [
  {
   "cell_type": "code",
   "execution_count": 3,
   "metadata": {},
   "outputs": [
    {
     "name": "stdout",
     "output_type": "stream",
     "text": [
      "Moviepy - Building video output_video_3.mp4.\n",
      "Moviepy - Writing video output_video_3.mp4\n",
      "\n"
     ]
    },
    {
     "name": "stderr",
     "output_type": "stream",
     "text": [
      "                                                            \r"
     ]
    },
    {
     "name": "stdout",
     "output_type": "stream",
     "text": [
      "Moviepy - Done !\n",
      "Moviepy - video ready output_video_3.mp4\n"
     ]
    }
   ],
   "source": [
    "from moviepy.editor import ImageSequenceClip\n",
    "import os\n",
    "\n",
    "# List of image file paths\n",
    "pic_dir=r\"C:\\Users\\rishi\\ml_projects\\climate\\imagesv3\"\n",
    "image_files=[]\n",
    "for i in range(1,13):\n",
    "    pic=os.path.join(pic_dir,f\"image_{i}.png\")\n",
    "    image_files.append(pic)\n",
    "\n",
    "# Create a video clip from the images\n",
    "clip = ImageSequenceClip(image_files, fps=0.5)  # fps can be adjusted as needed\n",
    "\n",
    "# Save the video\n",
    "clip.write_videofile(\"output_video_3.mp4\", codec=\"libx264\")\n"
   ]
  }
 ],
 "metadata": {
  "kernelspec": {
   "display_name": "climate",
   "language": "python",
   "name": "python3"
  },
  "language_info": {
   "codemirror_mode": {
    "name": "ipython",
    "version": 3
   },
   "file_extension": ".py",
   "mimetype": "text/x-python",
   "name": "python",
   "nbconvert_exporter": "python",
   "pygments_lexer": "ipython3",
   "version": "3.9.19"
  }
 },
 "nbformat": 4,
 "nbformat_minor": 2
}

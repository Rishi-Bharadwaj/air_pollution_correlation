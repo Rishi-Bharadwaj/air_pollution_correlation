{
 "cells": [
  {
   "cell_type": "code",
   "execution_count": 9,
   "metadata": {},
   "outputs": [
    {
     "name": "stdout",
     "output_type": "stream",
     "text": [
      "['2018_April.png', '2018_May.png', '2018_June.png', '2018_July.png', '2018_August.png', '2018_September.png', '2018_October.png', '2018_November.png', '2018_December.png', '2019_January.png', '2019_February.png', '2019_March.png', '2019_April.png', '2019_May.png', '2019_June.png', '2019_July.png', '2019_August.png', '2019_September.png', '2019_October.png', '2019_November.png', '2019_December.png', '2020_January.png', '2020_February.png', '2020_March.png', '2020_April.png', '2020_May.png', '2020_June.png', '2020_July.png', '2020_August.png', '2020_September.png', '2020_October.png', '2020_November.png', '2020_December.png', '2021_January.png', '2021_February.png', '2021_March.png', '2021_April.png', '2021_May.png', '2021_June.png', '2021_July.png', '2021_August.png', '2021_September.png', '2021_October.png', '2021_November.png', '2021_December.png', '2022_January.png', '2022_February.png', '2022_March.png', '2022_April.png', '2022_May.png', '2022_June.png', '2022_July.png', '2022_August.png', '2022_September.png', '2022_October.png', '2022_November.png', '2022_December.png', '2023_January.png', '2023_February.png', '2023_March.png', '2023_April.png', '2023_May.png', '2023_June.png', '2023_July.png', '2023_August.png', '2023_September.png', '2023_October.png', '2023_November.png', '2023_December.png']\n",
      "Moviepy - Building video CO 2018-2023.mp4.\n",
      "Moviepy - Writing video CO 2018-2023.mp4\n",
      "\n"
     ]
    },
    {
     "name": "stderr",
     "output_type": "stream",
     "text": [
      "                                                            \r"
     ]
    },
    {
     "name": "stdout",
     "output_type": "stream",
     "text": [
      "Moviepy - Done !\n",
      "Moviepy - video ready CO 2018-2023.mp4\n"
     ]
    }
   ],
   "source": [
    "from moviepy.editor import ImageSequenceClip\n",
    "import os\n",
    "\n",
    "# List of image file paths\n",
    "pic_dir=r\"C:\\Users\\rishi\\ml_projects\\climate\\Intermediate outputs\\CO_final\"\n",
    "image_files=[]\n",
    "files=os.listdir(pic_dir)\n",
    "\n",
    "\n",
    "def custom_sort(file):\n",
    "    splits=file.split('_')\n",
    "    year=splits[0]\n",
    "    rest=splits[1]\n",
    "    month=rest.split('.')[0]\n",
    "    month_mapping = {\n",
    "    'January': 1, 'February': 2, 'March': 3, 'April': 4,\n",
    "    'May': 5, 'June': 6, 'July': 7, 'August': 8,\n",
    "    'September': 9, 'October': 10, 'November': 11, 'December': 12\n",
    "    }\n",
    "    return(year,month_mapping[month])\n",
    "    \n",
    "sorted_files=sorted(files,key=custom_sort)\n",
    "print(sorted_files)\n",
    "final_files=[]\n",
    "for file in sorted_files:\n",
    "    full=os.path.join(pic_dir,file)\n",
    "    final_files.append(full)\n",
    "clip = ImageSequenceClip(final_files, fps=1)  # fps can be adjusted as needed\n",
    "\n",
    "# Save the video\n",
    "clip.write_videofile(\"CO 2018-2023.mp4\", codec=\"libx264\",bitrate=\"10000k\")\n"
   ]
  }
 ],
 "metadata": {
  "kernelspec": {
   "display_name": "climate",
   "language": "python",
   "name": "python3"
  },
  "language_info": {
   "codemirror_mode": {
    "name": "ipython",
    "version": 3
   },
   "file_extension": ".py",
   "mimetype": "text/x-python",
   "name": "python",
   "nbconvert_exporter": "python",
   "pygments_lexer": "ipython3",
   "version": "3.9.19"
  }
 },
 "nbformat": 4,
 "nbformat_minor": 2
}

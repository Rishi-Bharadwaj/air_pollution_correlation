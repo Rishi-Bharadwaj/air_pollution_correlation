{
 "cells": [
  {
   "cell_type": "code",
   "execution_count": 5,
   "metadata": {},
   "outputs": [
    {
     "ename": "Exception",
     "evalue": "There are some troubles with the server. The directory seems to be empty",
     "output_type": "error",
     "traceback": [
      "\u001b[1;31m---------------------------------------------------------------------------\u001b[0m",
      "\u001b[1;31mException\u001b[0m                                 Traceback (most recent call last)",
      "Cell \u001b[1;32mIn[5], line 22\u001b[0m\n\u001b[0;32m     13\u001b[0m downloader \u001b[38;5;241m=\u001b[39m downmodis\u001b[38;5;241m.\u001b[39mdownModis(destinationFolder\u001b[38;5;241m=\u001b[39mdestination_folder,\n\u001b[0;32m     14\u001b[0m                                  tiles\u001b[38;5;241m=\u001b[39mtiles,\n\u001b[0;32m     15\u001b[0m                                  product\u001b[38;5;241m=\u001b[39mproduct,\n\u001b[1;32m   (...)\u001b[0m\n\u001b[0;32m     18\u001b[0m                                  user\u001b[38;5;241m=\u001b[39muser,\n\u001b[0;32m     19\u001b[0m                                  password\u001b[38;5;241m=\u001b[39mpassword)\n\u001b[0;32m     21\u001b[0m \u001b[38;5;66;03m# Start the download process\u001b[39;00m\n\u001b[1;32m---> 22\u001b[0m \u001b[43mdownloader\u001b[49m\u001b[38;5;241;43m.\u001b[39;49m\u001b[43mconnect\u001b[49m\u001b[43m(\u001b[49m\u001b[43m)\u001b[49m\n\u001b[0;32m     23\u001b[0m downloader\u001b[38;5;241m.\u001b[39mdownloadsAllDay()\n",
      "File \u001b[1;32mc:\\Users\\rishi\\anaconda3\\envs\\climate\\lib\\site-packages\\pymodis\\downmodis.py:407\u001b[0m, in \u001b[0;36mdownModis.connect\u001b[1;34m(self, ncon)\u001b[0m\n\u001b[0;32m    405\u001b[0m     \u001b[38;5;28mself\u001b[39m\u001b[38;5;241m.\u001b[39m_connectHTTP(ncon)\n\u001b[0;32m    406\u001b[0m \u001b[38;5;28;01mif\u001b[39;00m \u001b[38;5;28mlen\u001b[39m(\u001b[38;5;28mself\u001b[39m\u001b[38;5;241m.\u001b[39mdirData) \u001b[38;5;241m==\u001b[39m \u001b[38;5;241m0\u001b[39m:\n\u001b[1;32m--> 407\u001b[0m     \u001b[38;5;28;01mraise\u001b[39;00m \u001b[38;5;167;01mException\u001b[39;00m(\u001b[38;5;124m\"\u001b[39m\u001b[38;5;124mThere are some troubles with the server. \u001b[39m\u001b[38;5;124m\"\u001b[39m\n\u001b[0;32m    408\u001b[0m                     \u001b[38;5;124m\"\u001b[39m\u001b[38;5;124mThe directory seems to be empty\u001b[39m\u001b[38;5;124m\"\u001b[39m)\n",
      "\u001b[1;31mException\u001b[0m: There are some troubles with the server. The directory seems to be empty"
     ]
    }
   ],
   "source": [
    "from pymodis import downmodis\n",
    "\n",
    "# Set the parameters for downloading\n",
    "destination_folder = \"/path/to/save/data\"  # Change this to your desired download location\n",
    "tiles = [\"h18v04\"]  # MODIS tile identifier (example tile, change as needed)\n",
    "product = \"MOD13Q1.006\"  # MODIS product ID (example product, change as needed)\n",
    "start_date = \"2024-01-01\"  # Example start date (change as needed)\n",
    "end_date = \"2024-01-31\"  # Example end date (change as needed)\n",
    "user = \"kite1655\"\n",
    "password = \"Thickshake@0105\"\n",
    "\n",
    "# Initialize the downloader\n",
    "downloader = downmodis.downModis(destinationFolder=destination_folder,\n",
    "                                 tiles=tiles,\n",
    "                                 product=product,\n",
    "                                 today=end_date,\n",
    "                                 enddate=start_date,\n",
    "                                 user=user,\n",
    "                                 password=password)\n",
    "\n",
    "# Start the download process\n",
    "downloader.connect()\n",
    "downloader.downloadsAllDay()\n"
   ]
  },
  {
   "cell_type": "code",
   "execution_count": 8,
   "metadata": {},
   "outputs": [
    {
     "ename": "Exception",
     "evalue": "There are some troubles with the server. The directory seems to be empty",
     "output_type": "error",
     "traceback": [
      "\u001b[1;31m---------------------------------------------------------------------------\u001b[0m",
      "\u001b[1;31mException\u001b[0m                                 Traceback (most recent call last)",
      "Cell \u001b[1;32mIn[8], line 18\u001b[0m\n\u001b[0;32m     15\u001b[0m password \u001b[38;5;241m=\u001b[39m \u001b[38;5;124m\"\u001b[39m\u001b[38;5;124mThickshake@0105\u001b[39m\u001b[38;5;124m\"\u001b[39m\n\u001b[0;32m     16\u001b[0m modisDown \u001b[38;5;241m=\u001b[39m downmodis\u001b[38;5;241m.\u001b[39mdownModis(destinationFolder\u001b[38;5;241m=\u001b[39mdest, tiles\u001b[38;5;241m=\u001b[39mtiles, today\u001b[38;5;241m=\u001b[39mday, delta\u001b[38;5;241m=\u001b[39mdelta,user\u001b[38;5;241m=\u001b[39muser,password\u001b[38;5;241m=\u001b[39mpassword)\n\u001b[1;32m---> 18\u001b[0m \u001b[43mmodisDown\u001b[49m\u001b[38;5;241;43m.\u001b[39;49m\u001b[43mconnect\u001b[49m\u001b[43m(\u001b[49m\u001b[43m)\u001b[49m\n\u001b[0;32m     20\u001b[0m modisDown\u001b[38;5;241m.\u001b[39mdownloadsAllDay()\n",
      "File \u001b[1;32mc:\\Users\\rishi\\anaconda3\\envs\\climate\\lib\\site-packages\\pymodis\\downmodis.py:407\u001b[0m, in \u001b[0;36mdownModis.connect\u001b[1;34m(self, ncon)\u001b[0m\n\u001b[0;32m    405\u001b[0m     \u001b[38;5;28mself\u001b[39m\u001b[38;5;241m.\u001b[39m_connectHTTP(ncon)\n\u001b[0;32m    406\u001b[0m \u001b[38;5;28;01mif\u001b[39;00m \u001b[38;5;28mlen\u001b[39m(\u001b[38;5;28mself\u001b[39m\u001b[38;5;241m.\u001b[39mdirData) \u001b[38;5;241m==\u001b[39m \u001b[38;5;241m0\u001b[39m:\n\u001b[1;32m--> 407\u001b[0m     \u001b[38;5;28;01mraise\u001b[39;00m \u001b[38;5;167;01mException\u001b[39;00m(\u001b[38;5;124m\"\u001b[39m\u001b[38;5;124mThere are some troubles with the server. \u001b[39m\u001b[38;5;124m\"\u001b[39m\n\u001b[0;32m    408\u001b[0m                     \u001b[38;5;124m\"\u001b[39m\u001b[38;5;124mThe directory seems to be empty\u001b[39m\u001b[38;5;124m\"\u001b[39m)\n",
      "\u001b[1;31mException\u001b[0m: There are some troubles with the server. The directory seems to be empty"
     ]
    }
   ],
   "source": [
    "import os\n",
    "import glob\n",
    "from IPython.core.display import Image\n",
    "from pymodis import downmodis\n",
    "\n",
    "# destination foldert\n",
    "dest = \"/tmp\"\n",
    "# tiles to download\n",
    "tiles = \"h18v04,h19v04\"\n",
    "# starting day\n",
    "day = \"2014-08-14\"\n",
    "# number of day to download\n",
    "delta = 1\n",
    "user = \"kite1655\"\n",
    "password = \"Thickshake@0105\"\n",
    "modisDown = downmodis.downModis(destinationFolder=dest, tiles=tiles, today=day, delta=delta,user=user,password=password)\n",
    "\n",
    "modisDown.connect()\n",
    "\n",
    "modisDown.downloadsAllDay()"
   ]
  }
 ],
 "metadata": {
  "kernelspec": {
   "display_name": "climate",
   "language": "python",
   "name": "python3"
  },
  "language_info": {
   "codemirror_mode": {
    "name": "ipython",
    "version": 3
   },
   "file_extension": ".py",
   "mimetype": "text/x-python",
   "name": "python",
   "nbconvert_exporter": "python",
   "pygments_lexer": "ipython3",
   "version": "3.9.19"
  }
 },
 "nbformat": 4,
 "nbformat_minor": 2
}

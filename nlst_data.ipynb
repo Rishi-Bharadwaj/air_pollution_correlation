{
 "cells": [
  {
   "cell_type": "code",
   "execution_count": 6,
   "metadata": {},
   "outputs": [],
   "source": [
    "import ee\n",
    "import requests\n",
    "import os\n",
    "# Initialize the Earth Engine API\n",
    "ee.Initialize(project='ts-rishimnb')\n"
   ]
  },
  {
   "cell_type": "code",
   "execution_count": 7,
   "metadata": {},
   "outputs": [],
   "source": [
    "import rasterio\n",
    "import numpy as np\n",
    "def get_data(start_date, end_date):\n",
    "    \"\"\"\n",
    "    Downloads the NDVI band from the MODIS image collection as a GeoTIFF file for the given date range.\n",
    "\n",
    "    Parameters:\n",
    "    start_date (str): The start date in the format 'YYYY-MM-DD'.\n",
    "    end_date (str): The end date in the format 'YYYY-MM-DD'.\n",
    "    \"\"\"\n",
    "    # Define the area of interest (AOI) using coordinates (hardcoded)\n",
    "    bbox = ee.Geometry.Rectangle([78.00405826, 16.93264351, 79.04971836, 17.90150706])\n",
    "    \n",
    "    # Choose the MODIS image collection and filter by date and bounds\n",
    "    image_collection = ee.ImageCollection(\"MODIS/061/MOD11A1\") \\\n",
    "        .filterBounds(bbox) \\\n",
    "        .filterDate(start_date, end_date)\n",
    "    \n",
    "    # Calculate the mean image over the date range\n",
    "    img = image_collection.mean()\n",
    "    \n",
    "    # Generate the download URL for the NDVI band\n",
    "    url = img.getDownloadUrl({\n",
    "        'bands': ['LST_Night_1km'],\n",
    "        'region': bbox,\n",
    "        'scale': 1000,\n",
    "        'format': 'GEO_TIFF'\n",
    "    })\n",
    "    \n",
    "    # Download the file\n",
    "    response = requests.get(url)\n",
    "    with open('nlst3.tif', 'wb') as fd:\n",
    "        fd.write(response.content)\n",
    "    \n",
    "    geo_tiff_path = 'nlst3.tif'\n",
    "    with rasterio.open(geo_tiff_path) as src:\n",
    "    # Read the first band (MODIS data can have multiple bands)\n",
    "        band1 = src.read(1)\n",
    "    return band1"
   ]
  },
  {
   "cell_type": "code",
   "execution_count": 8,
   "metadata": {},
   "outputs": [
    {
     "name": "stdout",
     "output_type": "stream",
     "text": [
      "[[14998.42857143 15002.57142857 14995.14285714 ... 14950.55555556\n",
      "  14955.33333333 14958.22222222]\n",
      " [14997.71428571 14997.42857143 14993.28571429 ... 14944.77777778\n",
      "  14951.55555556 14948.        ]\n",
      " [14999.71428571 15003.14285714 15003.         ... 14940.66666667\n",
      "  14948.22222222 14942.11111111]\n",
      " ...\n",
      " [14921.83333333 14931.16666667 14943.83333333 ... 14930.14285714\n",
      "  14924.5        14928.2       ]\n",
      " [14913.83333333 14914.83333333 14909.83333333 ... 14909.28571429\n",
      "  14910.16666667 14911.33333333]\n",
      " [14898.         14885.         14884.83333333 ... 14911.85714286\n",
      "  14906.85714286 14905.33333333]]\n"
     ]
    }
   ],
   "source": [
    "print(get_data('2023-06-01', '2023-06-30'))"
   ]
  },
  {
   "cell_type": "code",
   "execution_count": 9,
   "metadata": {},
   "outputs": [],
   "source": [
    "# months = {\n",
    "#     1: (\"January\", 31),\n",
    "#     2: (\"February\", 28),\n",
    "#     3: (\"March\", 31),\n",
    "#     4: (\"April\", 30),\n",
    "#     5: (\"May\", 31),\n",
    "#     6: (\"June\", 30),\n",
    "#     7: (\"July\", 31),\n",
    "#     8: (\"August\", 31),\n",
    "#     9: (\"September\", 30),\n",
    "#     10: (\"October\", 31),\n",
    "#     11: (\"November\", 30),\n",
    "#     12: (\"December\", 31)\n",
    "# }\n",
    "\n",
    "# for year in range(2018,2024):\n",
    "#     for i in range(1,13):\n",
    "#         output_dir=fr\"C:\\Users\\rishi\\ml_projects\\climate\\{year}_data\\nlst\"\n",
    "#         month_name, end_day = months[i]\n",
    "#         start=f\"{year}-{i}-1\"\n",
    "#         end = f\"{year}-{i}-{end_day}\"\n",
    "#         arr=get_data(start,end)\n",
    "#         path=os.path.join(output_dir, f'{month_name}_NLST.csv')\n",
    "#         np.savetxt(path, arr, delimiter=',')"
   ]
  },
  {
   "cell_type": "code",
   "execution_count": 10,
   "metadata": {},
   "outputs": [],
   "source": [
    "# import pandas as pd\n",
    "\n",
    "# df= pd.read_csv(r\"C:\\Users\\rishi\\ml_projects\\climate\\2018_data\\nlst\\January_NLST.csv\")\n",
    "# df"
   ]
  }
 ],
 "metadata": {
  "kernelspec": {
   "display_name": "climate",
   "language": "python",
   "name": "python3"
  },
  "language_info": {
   "codemirror_mode": {
    "name": "ipython",
    "version": 3
   },
   "file_extension": ".py",
   "mimetype": "text/x-python",
   "name": "python",
   "nbconvert_exporter": "python",
   "pygments_lexer": "ipython3",
   "version": "3.9.19"
  }
 },
 "nbformat": 4,
 "nbformat_minor": 2
}

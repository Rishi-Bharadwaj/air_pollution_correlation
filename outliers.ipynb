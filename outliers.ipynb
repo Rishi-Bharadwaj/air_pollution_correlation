{
 "cells": [
  {
   "cell_type": "code",
   "execution_count": 7,
   "metadata": {},
   "outputs": [],
   "source": [
    "import pandas as pd \n",
    "import numpy as np \n",
    "import os\n",
    "import warnings\n",
    "warnings.filterwarnings('ignore')\n",
    "\n"
   ]
  },
  {
   "cell_type": "code",
   "execution_count": 8,
   "metadata": {},
   "outputs": [
    {
     "name": "stdout",
     "output_type": "stream",
     "text": [
      "year: 2019 , month :July_NTL.csv\n",
      "year: 2019 , month :September_NTL.csv\n",
      "year: 2022 , month :July_NTL.csv\n",
      "year: 2023 , month :July_NTL.csv\n",
      "year: 2023 , month :September_NTL.csv\n"
     ]
    }
   ],
   "source": [
    "\n",
    "for i in range(2018, 2024):\n",
    "    dir_path = fr\"C:\\Users\\rishi\\ml_projects\\climate\\{i}_data\\NTL\"\n",
    "    filenames = os.listdir(dir_path)\n",
    "\n",
    "    month_mapping = {\n",
    "        'January': 1, 'February': 2, 'March': 3, 'April': 4,\n",
    "        'May': 5, 'June': 6, 'July': 7, 'August': 8,\n",
    "        'September': 9, 'October': 10, 'November': 11, 'December': 12\n",
    "    }\n",
    "\n",
    "    # Sort the filenames based on the month extracted from the filename\n",
    "    sorted_filenames = sorted(filenames, key=lambda x: month_mapping[x.split('_')[0]])\n",
    "    for filename in sorted_filenames:\n",
    "        filepath = os.path.join(dir_path, filename)\n",
    "        df = pd.read_csv(filepath, index_col=0)\n",
    "        count=0\n",
    "        for index,row in df.iterrows():\n",
    "            for x in range(len(row)):\n",
    "                if(row[x]==0):\n",
    "                    count+=1\n",
    "        if(count>=df.shape[0]*df.shape[1]/3):\n",
    "            print(f\"year: {i} , month :{filename}\")\n"
   ]
  }
 ],
 "metadata": {
  "kernelspec": {
   "display_name": "climate",
   "language": "python",
   "name": "python3"
  },
  "language_info": {
   "codemirror_mode": {
    "name": "ipython",
    "version": 3
   },
   "file_extension": ".py",
   "mimetype": "text/x-python",
   "name": "python",
   "nbconvert_exporter": "python",
   "pygments_lexer": "ipython3",
   "version": "3.9.19"
  }
 },
 "nbformat": 4,
 "nbformat_minor": 2
}

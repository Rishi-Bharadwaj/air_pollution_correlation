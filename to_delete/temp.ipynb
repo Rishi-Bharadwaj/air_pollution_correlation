{
 "cells": [
  {
   "cell_type": "code",
   "execution_count": 7,
   "metadata": {},
   "outputs": [],
   "source": [
    "import tarfile\n",
    "import os\n",
    "\n",
    "dir_path=r\"D:\\New raws\"\n",
    "files=os.listdir(dir_path)\n",
    "files=files[-8:]\n"
   ]
  },
  {
   "cell_type": "code",
   "execution_count": 8,
   "metadata": {},
   "outputs": [
    {
     "name": "stdout",
     "output_type": "stream",
     "text": [
      "Files extracted successfully!\n",
      "Files extracted successfully!\n",
      "Files extracted successfully!\n",
      "Files extracted successfully!\n",
      "Files extracted successfully!\n",
      "Files extracted successfully!\n",
      "Files extracted successfully!\n",
      "Files extracted successfully!\n"
     ]
    }
   ],
   "source": [
    "for file in files:\n",
    "# Path to your .tgz file\n",
    "    path=os.path.join(dir_path,file)\n",
    "\n",
    "# Extracting the .tgz file\n",
    "    with tarfile.open(path, 'r:gz') as tar:\n",
    "        tar.extractall(path=r\"D:\\data new\")  # Specify your desired extraction path\n",
    "        print(\"Files extracted successfully!\")\n"
   ]
  }
 ],
 "metadata": {
  "kernelspec": {
   "display_name": "climate",
   "language": "python",
   "name": "python3"
  },
  "language_info": {
   "codemirror_mode": {
    "name": "ipython",
    "version": 3
   },
   "file_extension": ".py",
   "mimetype": "text/x-python",
   "name": "python",
   "nbconvert_exporter": "python",
   "pygments_lexer": "ipython3",
   "version": "3.9.19"
  }
 },
 "nbformat": 4,
 "nbformat_minor": 2
}
